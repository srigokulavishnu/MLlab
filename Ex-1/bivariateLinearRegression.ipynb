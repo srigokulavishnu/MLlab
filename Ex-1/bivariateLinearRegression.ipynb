{
  "nbformat": 4,
  "nbformat_minor": 0,
  "metadata": {
    "colab": {
      "provenance": [],
      "authorship_tag": "ABX9TyM+STyiEGsWFEJZlqAmMXzQ",
      "include_colab_link": true
    },
    "kernelspec": {
      "name": "python3",
      "display_name": "Python 3"
    },
    "language_info": {
      "name": "python"
    }
  },
  "cells": [
    {
      "cell_type": "markdown",
      "metadata": {
        "id": "view-in-github",
        "colab_type": "text"
      },
      "source": [
        "<a href=\"https://colab.research.google.com/github/srigokulavishnu/MLlab/blob/main/Ex-1/bivariateLinearRegression.ipynb\" target=\"_parent\"><img src=\"https://colab.research.google.com/assets/colab-badge.svg\" alt=\"Open In Colab\"/></a>"
      ]
    },
    {
      "cell_type": "code",
      "execution_count": 1,
      "metadata": {
        "colab": {
          "base_uri": "https://localhost:8080/"
        },
        "id": "Gsk1H5K7KNFM",
        "outputId": "0a4739fb-fa7b-49c7-bbe5-4326b4f394b1"
      },
      "outputs": [
        {
          "output_type": "stream",
          "name": "stdout",
          "text": [
            "The regression equation is: y = 1.4867 + 0.7388 * x\n"
          ]
        }
      ],
      "source": [
        "x = [1, 2, 3, 4, 5, 6, 7, 8, 9, 10]\n",
        "y = [2.3, 2.9, 3.8, 4.4, 5.1, 5.9, 6.8, 7.2, 8.0, 9.1]\n",
        "\n",
        "X = []\n",
        "Y = []\n",
        "for i in range(len(x)):\n",
        "    X.append([1, x[i]])\n",
        "    Y.append([y[i]])\n",
        "\n",
        "def transpose(matrix):\n",
        "    result = []\n",
        "    for j in range(len(matrix[0])):\n",
        "        row = []\n",
        "        for i in range(len(matrix)):\n",
        "            row.append(matrix[i][j])\n",
        "        result.append(row)\n",
        "    return result\n",
        "\n",
        "def multiply(a, b):\n",
        "    result = []\n",
        "    for i in range(len(a)):\n",
        "        row = []\n",
        "        for j in range(len(b[0])):\n",
        "            val = 0\n",
        "            for k in range(len(b)):\n",
        "                val += a[i][k] * b[k][j]\n",
        "            row.append(val)\n",
        "        result.append(row)\n",
        "    return result\n",
        "\n",
        "def inverse_2x2(m):\n",
        "    a, b = m[0]\n",
        "    c, d = m[1]\n",
        "    det = a * d - b * c\n",
        "    if det == 0:\n",
        "        raise ValueError(\"Matrix is singular.\")\n",
        "    inv_det = 1 / det\n",
        "    return [\n",
        "        [ d * inv_det, -b * inv_det],\n",
        "        [-c * inv_det,  a * inv_det]\n",
        "    ]\n",
        "\n",
        "XT = transpose(X)\n",
        "XT_X = multiply(XT, X)\n",
        "XT_Y = multiply(XT, Y)\n",
        "XT_X_inv = inverse_2x2(XT_X)\n",
        "beta = multiply(XT_X_inv, XT_Y)\n",
        "\n",
        "intercept = beta[0][0]\n",
        "slope = beta[1][0]\n",
        "\n",
        "print(f\"The regression equation is: y = {intercept:.4f} + {slope:.4f} * x\")\n"
      ]
    }
  ]
}