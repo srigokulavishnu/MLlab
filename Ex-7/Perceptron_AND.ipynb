{
  "nbformat": 4,
  "nbformat_minor": 0,
  "metadata": {
    "colab": {
      "provenance": [],
      "include_colab_link": true
    },
    "kernelspec": {
      "name": "python3",
      "display_name": "Python 3"
    },
    "language_info": {
      "name": "python"
    }
  },
  "cells": [
    {
      "cell_type": "markdown",
      "metadata": {
        "id": "view-in-github",
        "colab_type": "text"
      },
      "source": [
        "<a href=\"https://colab.research.google.com/github/srigokulavishnu/MLlab/blob/main/Ex-7/Perceptron_AND.ipynb\" target=\"_parent\"><img src=\"https://colab.research.google.com/assets/colab-badge.svg\" alt=\"Open In Colab\"/></a>"
      ]
    },
    {
      "cell_type": "code",
      "execution_count": null,
      "metadata": {
        "colab": {
          "base_uri": "https://localhost:8080/"
        },
        "id": "ldvkmZupNk0v",
        "outputId": "60cb0f91-524f-4e3c-a52a-04591da9459a"
      },
      "outputs": [
        {
          "output_type": "stream",
          "name": "stdout",
          "text": [
            "Enter initial weight w1: 0.4\n",
            "Enter initial weight w2: 0.5\n",
            "Enter initial bias: 0\n",
            "Enter learning rate: 0.7\n",
            "Enter threshold for activation: 0.3\n",
            "\n",
            "Final trained weights (bias first): [-2.1  1.8  1.2]\n",
            "Converged at epoch: 8\n",
            "\n",
            "Testing AND gate:\n",
            "[0 0] -> 0\n",
            "[0 1] -> 0\n",
            "[1 0] -> 0\n",
            "[1 1] -> 1\n"
          ]
        }
      ],
      "source": [
        "import numpy as np\n",
        "def step_function(x, threshold):\n",
        "    return 1 if x >= threshold else 0\n",
        "class Perceptron:\n",
        "    def __init__(self, input_size, weights, bias, learning_rate=0.1, epochs=100, threshold=0):\n",
        "        self.weights = np.array([bias] + weights)\n",
        "        self.learning_rate = learning_rate\n",
        "        self.epochs = epochs\n",
        "        self.threshold = threshold\n",
        "    def predict(self, inputs):\n",
        "        summation = np.dot(inputs, self.weights[1:]) + self.weights[0]\n",
        "        return step_function(summation, self.threshold)\n",
        "    def train(self, training_inputs, labels):\n",
        "        for epoch in range(1, self.epochs + 1):\n",
        "            errors = 0\n",
        "            for inputs, label in zip(training_inputs, labels):\n",
        "                prediction = self.predict(inputs)\n",
        "                error = label - prediction\n",
        "                if error != 0:\n",
        "                    self.weights[1:] += self.learning_rate * error * inputs\n",
        "                    self.weights[0] += self.learning_rate * error\n",
        "                    errors += 1\n",
        "            if errors == 0:\n",
        "                return epoch\n",
        "        return self.epochs\n",
        "training_inputs = np.array([\n",
        "    [0, 0],\n",
        "    [0, 1],\n",
        "    [1, 0],\n",
        "    [1, 1]\n",
        "])\n",
        "labels = np.array([0, 0, 0, 1])\n",
        "w1 = float(input(\"Enter initial weight w1: \"))\n",
        "w2 = float(input(\"Enter initial weight w2: \"))\n",
        "bias = float(input(\"Enter initial bias: \"))\n",
        "learning_rate = float(input(\"Enter learning rate: \"))\n",
        "threshold = float(input(\"Enter threshold for activation: \"))\n",
        "perceptron = Perceptron(\n",
        "    input_size=2,\n",
        "    weights=[w1, w2],\n",
        "    bias=bias,\n",
        "    learning_rate=learning_rate,\n",
        "    epochs=100,\n",
        "    threshold=threshold\n",
        ")\n",
        "converged_epoch = perceptron.train(training_inputs, labels)\n",
        "print(\"\\nFinal trained weights (bias first):\", perceptron.weights)\n",
        "print(\"Converged at epoch:\", converged_epoch)\n",
        "print(\"\\nTesting AND gate:\")\n",
        "for inputs in training_inputs:\n",
        "    print(f\"{inputs} -> {perceptron.predict(inputs)}\")\n"
      ]
    }
  ]
}