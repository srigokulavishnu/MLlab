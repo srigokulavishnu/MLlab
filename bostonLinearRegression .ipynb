import matplotlib.pyplot as plt
import seaborn as sns
import pandas as pd
from sklearn.linear_model import LinearRegression
from sklearn.datasets import load_boston  # For sklearn < 1.2
import warnings
warnings.filterwarnings("ignore")

# Load dataset
boston = load_boston()
df = pd.DataFrame(boston.data, columns=boston.feature_names)
df['PRICE'] = boston.target

# Select one feature: RM
X = df[['RM']]
y = df['PRICE']

# Train linear regression model
model = LinearRegression()
model.fit(X, y)

# Get coefficients
intercept = model.intercept_
slope = model.coef_[0]

# Display the regression equation
print("✅ Linear Regression Equation:")
print(f"PRICE = {intercept:.4f} + {slope:.4f} * RM")

# --- Predict price for a given value of RM ---
# You can change this value:
rm_value = 6.5
predicted_price = model.predict([[rm_value]])[0]
print(f"\n Predicted price for RM = {rm_value}: {predicted_price:.2f} ($1000s)")

# --- Plot: scatter + regression line + prediction point ---
plt.figure(figsize=(8, 6))

# Scatter plot
sns.scatterplot(x='RM', y='PRICE', data=df, color='skyblue', label='Data')

# Regression line
plt.plot(X, model.predict(X), color='red', label='Regression Line')

# Predicted point
plt.scatter(rm_value, predicted_price, color='green', s=100, zorder=5, label=f'Predicted (${predicted_price:.1f}k)')

# Annotations and layout
plt.xlabel('Average Number of Rooms (RM)')
plt.ylabel('House Price (in $1000s)')
plt.title('Linear Regression: RM vs PRICE')
plt.legend()
plt.grid(True)
plt.tight_layout()
plt.show()
