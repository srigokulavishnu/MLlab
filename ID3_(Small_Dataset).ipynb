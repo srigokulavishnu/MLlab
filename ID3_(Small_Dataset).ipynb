{
  "nbformat": 4,
  "nbformat_minor": 0,
  "metadata": {
    "colab": {
      "provenance": [],
      "gpuType": "T4",
      "include_colab_link": true
    },
    "kernelspec": {
      "name": "python3",
      "display_name": "Python 3"
    },
    "language_info": {
      "name": "python"
    },
    "accelerator": "GPU"
  },
  "cells": [
    {
      "cell_type": "markdown",
      "metadata": {
        "id": "view-in-github",
        "colab_type": "text"
      },
      "source": [
        "<a href=\"https://colab.research.google.com/github/srigokulavishnu/MLlab/blob/main/ID3_(Small_Dataset).ipynb\" target=\"_parent\"><img src=\"https://colab.research.google.com/assets/colab-badge.svg\" alt=\"Open In Colab\"/></a>"
      ]
    },
    {
      "cell_type": "code",
      "execution_count": null,
      "metadata": {
        "colab": {
          "base_uri": "https://localhost:8080/"
        },
        "id": "ZeIDDOwEjCjs",
        "outputId": "02dd46c9-3327-461c-d31b-e3356654689c"
      },
      "outputs": [
        {
          "output_type": "stream",
          "name": "stdout",
          "text": [
            "\n",
            "Enter your CGPA: 9\n",
            "Are you interactive? (Yes/No): no\n",
            "Your practical knowledge? (VG/AVG/Good): good\n",
            "Your communication level? (G/M/P): p\n",
            "\n",
            "You will not get the job.\n"
          ]
        }
      ],
      "source": [
        "import pandas as pd\n",
        "import math\n",
        "from collections import Counter\n",
        "import pprint\n",
        "\n",
        "df = pd.read_csv(\"job_data.csv\")\n",
        "data = df.to_dict(orient=\"records\")\n",
        "\n",
        "def discretize_cgpa(cgpa):\n",
        "    try:\n",
        "        cgpa = float(cgpa)\n",
        "    except (ValueError, TypeError):\n",
        "        return \"Unknown\"\n",
        "    if cgpa >= 9:\n",
        "        return \"High\"\n",
        "    elif cgpa >= 8:\n",
        "        return \"Medium\"\n",
        "    else:\n",
        "        return \"Low\"\n",
        "\n",
        "for record in data:\n",
        "    record[\"CGPA\"] = discretize_cgpa(record[\"CGPA\"])\n",
        "    record[\"Interactive\"] = str(record[\"Interactive\"]).strip().title()\n",
        "    record[\"Practical\"] = str(record[\"Practical\"]).strip().upper()\n",
        "    record[\"Communication\"] = str(record[\"Communication\"]).strip().upper()\n",
        "    record[\"JobOffer\"] = str(record[\"JobOffer\"]).strip().title()\n",
        "\n",
        "def entropy(data_subset):\n",
        "    labels = [record[\"JobOffer\"] for record in data_subset]\n",
        "    total = len(labels)\n",
        "    counts = Counter(labels)\n",
        "    ent = 0.0\n",
        "    for count in counts.values():\n",
        "        p = count / total\n",
        "        ent -= p * math.log2(p)\n",
        "    return ent\n",
        "\n",
        "def info_gain(data_subset, attribute):\n",
        "    total_entropy = entropy(data_subset)\n",
        "    values = set(record[attribute] for record in data_subset)\n",
        "    weighted_entropy = 0.0\n",
        "    total = len(data_subset)\n",
        "    for val in values:\n",
        "        subset = [record for record in data_subset if record[attribute] == val]\n",
        "        weighted_entropy += (len(subset) / total) * entropy(subset)\n",
        "    return total_entropy - weighted_entropy\n",
        "\n",
        "def majority_class(data_subset):\n",
        "    labels = [record[\"JobOffer\"] for record in data_subset]\n",
        "    return Counter(labels).most_common(1)[0][0]\n",
        "\n",
        "def id3(data_subset, attributes):\n",
        "    labels = [record[\"JobOffer\"] for record in data_subset]\n",
        "    if len(set(labels)) == 1:\n",
        "        return labels[0]\n",
        "    if not attributes:\n",
        "        return majority_class(data_subset)\n",
        "    gains = [(attr, info_gain(data_subset, attr)) for attr in attributes]\n",
        "    best_attr, best_gain = max(gains, key=lambda x: x[1])\n",
        "    if best_gain == 0:\n",
        "        return majority_class(data_subset)\n",
        "    tree = {best_attr: {}}\n",
        "    values = set(record[best_attr] for record in data_subset)\n",
        "    for val in values:\n",
        "        subset = [record for record in data_subset if record[best_attr] == val]\n",
        "        if not subset:\n",
        "            tree[best_attr][val] = majority_class(data_subset)\n",
        "        else:\n",
        "            remaining_attrs = [a for a in attributes if a != best_attr]\n",
        "            tree[best_attr][val] = id3(subset, remaining_attrs)\n",
        "    return tree\n",
        "\n",
        "attributes = [\"CGPA\", \"Interactive\", \"Practical\", \"Communication\"]\n",
        "decision_tree = id3(data, attributes)\n",
        "\n",
        "def predict(tree, sample):\n",
        "    if not isinstance(tree, dict):\n",
        "        return tree\n",
        "    attribute = next(iter(tree))\n",
        "    attribute_value = sample.get(attribute)\n",
        "    if attribute_value in tree[attribute]:\n",
        "        return predict(tree[attribute][attribute_value], sample)\n",
        "    else:\n",
        "        return majority_class(data)\n",
        "\n",
        "cgpa_input = float(input(\"\\nEnter your CGPA: \"))\n",
        "interactive_input = input(\"Are you interactive? (Yes/No): \").strip().title()\n",
        "practical_input = input(\"Your practical knowledge? (VG/AVG/Good): \").strip().upper()\n",
        "communication_input = input(\"Your communication level? (G/M/P): \").strip().upper()\n",
        "\n",
        "new_sample = {\n",
        "    \"CGPA\": discretize_cgpa(cgpa_input),\n",
        "    \"Interactive\": interactive_input,\n",
        "    \"Practical\": practical_input,\n",
        "    \"Communication\": communication_input\n",
        "}\n",
        "\n",
        "prediction = predict(decision_tree, new_sample)\n",
        "if prediction and prediction.strip().lower() in [\"yes\", \"y\"]:\n",
        "    print(\"\\nYou will get the job.\")\n",
        "else:\n",
        "    print(\"\\nYou will not get the job.\")\n"
      ]
    }
  ]
}