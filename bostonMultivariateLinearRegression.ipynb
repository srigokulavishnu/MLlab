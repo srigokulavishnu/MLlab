{
  "nbformat": 4,
  "nbformat_minor": 0,
  "metadata": {
    "colab": {
      "provenance": [],
      "authorship_tag": "ABX9TyMlY/1OKzzcFBTj/UlL0m/w",
      "include_colab_link": true
    },
    "kernelspec": {
      "name": "python3",
      "display_name": "Python 3"
    },
    "language_info": {
      "name": "python"
    }
  },
  "cells": [
    {
      "cell_type": "markdown",
      "metadata": {
        "id": "view-in-github",
        "colab_type": "text"
      },
      "source": [
        "<a href=\"https://colab.research.google.com/github/srigokulavishnu/MLlab/blob/main/bostonMultivariateLinearRegression.ipynb\" target=\"_parent\"><img src=\"https://colab.research.google.com/assets/colab-badge.svg\" alt=\"Open In Colab\"/></a>"
      ]
    },
    {
      "cell_type": "code",
      "execution_count": 4,
      "metadata": {
        "colab": {
          "base_uri": "https://localhost:8080/"
        },
        "id": "-3E3RjXYD3oU",
        "outputId": "6151f4e5-ab74-463f-b9b8-916a738b87c0"
      },
      "outputs": [
        {
          "output_type": "stream",
          "name": "stdout",
          "text": [
            "Dropping highly correlated features: ['tax']\n",
            "Regression Equation:\n",
            "MEDV = 34.6286 + (-0.1067 * crim) + (0.0364 * zn) + (-0.0678 * indus) + (3.0292 * chas) + (-18.7012 * nox) + (3.9117 * rm) + (-0.0006 * age) + (-1.4883 * dis) + (0.1346 * rad) + (-0.9851 * ptratio) + (0.0095 * b) + (-0.5222 * lstat)\n",
            "Enter values for unseen input:\n",
            "crim: 0.027\n",
            "zn: 0\n",
            "indus: 0.53\n",
            "chas: 0\n",
            "nox: 0.538\n",
            "rm: 6.57\n",
            "age: 65.3\n",
            "dis: 4.0900\n",
            "rad: 1\n",
            "ptratio: 15.2\n",
            "b: 396.90\n",
            "lstat: 4.98\n",
            "Predicted MEDV (Price): 30.45\n",
            "RMSE: 4.7301\n",
            "R2 Score: 0.7350\n"
          ]
        },
        {
          "output_type": "stream",
          "name": "stderr",
          "text": [
            "/usr/local/lib/python3.11/dist-packages/sklearn/utils/validation.py:2739: UserWarning: X does not have valid feature names, but LinearRegression was fitted with feature names\n",
            "  warnings.warn(\n"
          ]
        }
      ],
      "source": [
        "import pandas as pd\n",
        "import numpy as np\n",
        "from sklearn.linear_model import LinearRegression\n",
        "from sklearn.metrics import mean_squared_error, r2_score\n",
        "\n",
        "url = \"https://raw.githubusercontent.com/selva86/datasets/master/BostonHousing.csv\"\n",
        "df = pd.read_csv(url)\n",
        "\n",
        "corr_matrix = df.corr().abs()\n",
        "upper = corr_matrix.where(np.triu(np.ones(corr_matrix.shape), k=1).astype(bool))\n",
        "to_drop = [column for column in upper.columns if any(upper[column] > 0.9)]\n",
        "\n",
        "print(f\"Dropping highly correlated features: {to_drop}\")\n",
        "df_clean = df.drop(columns=to_drop)\n",
        "\n",
        "X = df_clean.drop(columns=['medv'])\n",
        "y = df_clean['medv']\n",
        "\n",
        "\n",
        "model = LinearRegression()\n",
        "model.fit(X, y)\n",
        "\n",
        "print(\"Regression Equation:\")\n",
        "coefs = model.coef_\n",
        "intercept = model.intercept_\n",
        "equation = f\"MEDV = {intercept:.4f}\"\n",
        "for feature, coef in zip(X.columns, coefs):\n",
        "    equation += f\" + ({coef:.4f} * {feature})\"\n",
        "print(equation)\n",
        "\n",
        "print(\"Enter values for unseen input:\")\n",
        "user_input = []\n",
        "for feature in X.columns:\n",
        "    val = float(input(f\"{feature}: \"))\n",
        "    user_input.append(val)\n",
        "\n",
        "user_input_np = np.array(user_input).reshape(1, -1)\n",
        "predicted_price = model.predict(user_input_np)[0]\n",
        "print(f\"Predicted MEDV (Price): {predicted_price:.2f}\")\n",
        "\n",
        "y_pred = model.predict(X)\n",
        "mse = mean_squared_error(y, y_pred)\n",
        "rmse = mse ** 0.5\n",
        "r2 = r2_score(y, y_pred)\n",
        "\n",
        "print(f\"RMSE: {rmse:.4f}\")\n",
        "print(f\"R2 Score: {r2:.4f}\")\n"
      ]
    }
  ]
}