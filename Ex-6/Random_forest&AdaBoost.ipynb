{
  "cells": [
    {
      "cell_type": "markdown",
      "metadata": {
        "id": "view-in-github",
        "colab_type": "text"
      },
      "source": [
        "<a href=\"https://colab.research.google.com/github/srigokulavishnu/MLlab/blob/main/Ex-6/Random_forest%26AdaBoost.ipynb\" target=\"_parent\"><img src=\"https://colab.research.google.com/assets/colab-badge.svg\" alt=\"Open In Colab\"/></a>"
      ]
    },
    {
      "cell_type": "code",
      "execution_count": null,
      "metadata": {
        "colab": {
          "background_save": true,
          "base_uri": "https://localhost:8080/"
        },
        "id": "ItZuRfu-Fcdc",
        "outputId": "9972b4a0-ca21-476f-9528-237900f9deae"
      },
      "outputs": [
        {
          "name": "stdout",
          "output_type": "stream",
          "text": [
            "Accuracy Score:\n",
            "Random Forest: 1.0\n",
            "AdaBoost: 1.0\n",
            "\n",
            "Precision Score:\n",
            "Random Forest: 1.0\n",
            "AdaBoost: 1.0\n",
            "\n",
            "Recall Score:\n",
            "Random Forest: 1.0\n",
            "AdaBoost: 1.0\n",
            "\n",
            "F1 Score:\n",
            "Random Forest: 1.0\n",
            "AdaBoost: 1.0\n"
          ]
        }
      ],
      "source": [
        "from sklearn.datasets import load_iris\n",
        "from sklearn.model_selection import train_test_split\n",
        "from sklearn.ensemble import RandomForestClassifier, AdaBoostClassifier\n",
        "from sklearn.metrics import accuracy_score, precision_score, recall_score, f1_score\n",
        "\n",
        "\n",
        "iris = load_iris()\n",
        "X = iris.data\n",
        "y = iris.target\n",
        "\n",
        "\n",
        "X_train, X_test, y_train, y_test = train_test_split(X, y, test_size=0.3, random_state=42)\n",
        "\n",
        "\n",
        "rf_model = RandomForestClassifier(n_estimators=100, random_state=42)\n",
        "rf_model.fit(X_train, y_train)\n",
        "rf_preds = rf_model.predict(X_test)\n",
        "\n",
        "\n",
        "ab_model = AdaBoostClassifier(n_estimators=100, random_state=42)\n",
        "ab_model.fit(X_train, y_train)\n",
        "ab_preds = ab_model.predict(X_test)\n",
        "\n",
        "\n",
        "print(\"Accuracy Score:\")\n",
        "print(\"Random Forest:\", accuracy_score(y_test, rf_preds))\n",
        "print(\"AdaBoost:\", accuracy_score(y_test, ab_preds))\n",
        "\n",
        "\n",
        "print(\"\\nPrecision Score:\")\n",
        "print(\"Random Forest:\", precision_score(y_test, rf_preds, average='weighted'))\n",
        "print(\"AdaBoost:\", precision_score(y_test, ab_preds, average='weighted'))\n",
        "\n",
        "\n",
        "print(\"\\nRecall Score:\")\n",
        "print(\"Random Forest:\", recall_score(y_test, rf_preds, average='weighted'))\n",
        "print(\"AdaBoost:\", recall_score(y_test, ab_preds, average='weighted'))\n",
        "\n",
        "print(\"\\nF1 Score:\")\n",
        "print(\"Random Forest:\", f1_score(y_test, rf_preds, average='weighted'))\n",
        "print(\"AdaBoost:\", f1_score(y_test, ab_preds, average='weighted'))\n"
      ]
    }
  ],
  "metadata": {
    "colab": {
      "provenance": [],
      "include_colab_link": true
    },
    "kernelspec": {
      "display_name": "Python 3 (ipykernel)",
      "language": "python",
      "name": "python3"
    },
    "language_info": {
      "codemirror_mode": {
        "name": "ipython",
        "version": 3
      },
      "file_extension": ".py",
      "mimetype": "text/x-python",
      "name": "python",
      "nbconvert_exporter": "python",
      "pygments_lexer": "ipython3",
      "version": "3.12.3"
    }
  },
  "nbformat": 4,
  "nbformat_minor": 0
}