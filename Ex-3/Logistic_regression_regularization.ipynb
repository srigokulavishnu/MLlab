{
  "cells": [
    {
      "cell_type": "markdown",
      "metadata": {
        "id": "view-in-github",
        "colab_type": "text"
      },
      "source": [
        "<a href=\"https://colab.research.google.com/github/srigokulavishnu/MLlab/blob/main/Ex-3/Logistic_regression_regularization.ipynb\" target=\"_parent\"><img src=\"https://colab.research.google.com/assets/colab-badge.svg\" alt=\"Open In Colab\"/></a>"
      ]
    },
    {
      "cell_type": "code",
      "execution_count": null,
      "metadata": {
        "colab": {
          "base_uri": "https://localhost:8080/",
          "height": 645
        },
        "id": "WYFn3JA74U63",
        "outputId": "79a328fd-fa58-4fc1-984c-79ec55abd023"
      },
      "outputs": [
        {
          "name": "stdout",
          "output_type": "stream",
          "text": [
            "\n",
            "--- Model Performance on Training Data ---\n",
            "Lasso:      R² = 0.892, MSE = 10.585, Accuracy = 0.950\n",
            "Ridge:      R² = 0.892, MSE = 10.585, Accuracy = 0.950\n",
            "ElasticNet: R² = 0.892, MSE = 10.585, Accuracy = 0.950\n",
            "Logistic Regression: Accuracy = 1.000\n",
            "\n",
            "--- Seen Data Prediction ---\n",
            "There are 20 student records. Choose index from 0 to 19\n"
          ]
        },
        {
          "name": "stdin",
          "output_type": "stream",
          "text": [
            "Enter index of student to evaluate:  1\n"
          ]
        },
        {
          "name": "stdout",
          "output_type": "stream",
          "text": [
            "\n",
            "Actual Final Score: 44.8 → Fail\n",
            "Lasso Prediction: 45.30 → Fail\n",
            "Ridge Prediction: 45.29 → Fail\n",
            "ElasticNet Prediction: 45.29 → Fail\n",
            "Logistic Regression Prediction: Fail\n",
            "\n",
            "--- Unseen Data Prediction ---\n",
            "Enter new student scores for the same 5 subjects, separated by commas (e.g. 60,70,65,55,80):\n"
          ]
        },
        {
          "name": "stdin",
          "output_type": "stream",
          "text": [
            " 44,56,32,30,77\n"
          ]
        },
        {
          "name": "stdout",
          "output_type": "stream",
          "text": [
            "\n",
            "Lasso Prediction: 52.97 → Pass\n",
            "Ridge Prediction: 52.97 → Pass\n",
            "ElasticNet Prediction: 52.97 → Pass\n",
            "Logistic Regression Prediction: Pass\n"
          ]
        },
        {
          "name": "stderr",
          "output_type": "stream",
          "text": [
            "/home/student/6085/lib/python3.12/site-packages/sklearn/utils/validation.py:2749: UserWarning: X does not have valid feature names, but Lasso was fitted with feature names\n",
            "  warnings.warn(\n",
            "/home/student/6085/lib/python3.12/site-packages/sklearn/utils/validation.py:2749: UserWarning: X does not have valid feature names, but Ridge was fitted with feature names\n",
            "  warnings.warn(\n",
            "/home/student/6085/lib/python3.12/site-packages/sklearn/utils/validation.py:2749: UserWarning: X does not have valid feature names, but ElasticNet was fitted with feature names\n",
            "  warnings.warn(\n",
            "/home/student/6085/lib/python3.12/site-packages/sklearn/utils/validation.py:2749: UserWarning: X does not have valid feature names, but LogisticRegression was fitted with feature names\n",
            "  warnings.warn(\n"
          ]
        }
      ],
      "source": [
        "import numpy as np\n",
        "import pandas as pd\n",
        "from sklearn.linear_model import Lasso, Ridge, ElasticNet, LogisticRegression\n",
        "from sklearn.metrics import mean_squared_error, r2_score, accuracy_score\n",
        "\n",
        "df = pd.read_csv('student_data.csv')\n",
        "\n",
        "\n",
        "X = df.drop('FinalScore', axis=1)\n",
        "y = df['FinalScore']\n",
        "y_class = (y >= 50).astype(int)  # Pass if score >= 50\n",
        "\n",
        "\n",
        "lasso = Lasso(alpha=0.1).fit(X, y)\n",
        "ridge = Ridge(alpha=1.0).fit(X, y)\n",
        "elastic = ElasticNet(alpha=0.1, l1_ratio=0.5).fit(X, y)\n",
        "logreg = LogisticRegression().fit(X, y_class)\n",
        "\n",
        "\n",
        "y_lasso_pred = lasso.predict(X)\n",
        "y_ridge_pred = ridge.predict(X)\n",
        "y_elastic_pred = elastic.predict(X)\n",
        "y_log_pred = logreg.predict(X)\n",
        "\n",
        "\n",
        "def regression_accuracy(y_true_cont, y_pred_cont, threshold=50):\n",
        "    y_true_bin = (y_true_cont >= threshold).astype(int)\n",
        "    y_pred_bin = (y_pred_cont >= threshold).astype(int)\n",
        "    return accuracy_score(y_true_bin, y_pred_bin)\n",
        "\n",
        "\n",
        "def evaluate_models(y_true, y_preds, y_class_true, y_class_pred):\n",
        "    print(\"\\n--- Model Performance on Training Data ---\")\n",
        "    print(f\"Lasso:      R² = {r2_score(y_true, y_preds[0]):.3f}, MSE = {mean_squared_error(y_true, y_preds[0]):.3f}, Accuracy = {regression_accuracy(y_true, y_preds[0]):.3f}\")\n",
        "    print(f\"Ridge:      R² = {r2_score(y_true, y_preds[1]):.3f}, MSE = {mean_squared_error(y_true, y_preds[1]):.3f}, Accuracy = {regression_accuracy(y_true, y_preds[1]):.3f}\")\n",
        "    print(f\"ElasticNet: R² = {r2_score(y_true, y_preds[2]):.3f}, MSE = {mean_squared_error(y_true, y_preds[2]):.3f}, Accuracy = {regression_accuracy(y_true, y_preds[2]):.3f}\")\n",
        "    print(f\"Logistic Regression: Accuracy = {accuracy_score(y_class_true, y_class_pred):.3f}\")\n",
        "\n",
        "evaluate_models(y, [y_lasso_pred, y_ridge_pred, y_elastic_pred], y_class, y_log_pred)\n",
        "\n",
        "\n",
        "print(\"\\n--- Seen Data Prediction ---\")\n",
        "print(f\"There are {len(df)} student records. Choose index from 0 to {len(df)-1}\")\n",
        "index = int(input(\"Enter index of student to evaluate: \"))\n",
        "\n",
        "seen_data = X.iloc[[index]]\n",
        "true_score = y.iloc[index]\n",
        "true_class = y_class.iloc[index]\n",
        "\n",
        "lasso_seen = lasso.predict(seen_data)[0]\n",
        "ridge_seen = ridge.predict(seen_data)[0]\n",
        "elastic_seen = elastic.predict(seen_data)[0]\n",
        "log_seen = logreg.predict(seen_data)[0]\n",
        "\n",
        "print(f\"\\nActual Final Score: {true_score} → {'Pass' if true_class else 'Fail'}\")\n",
        "print(f\"Lasso Prediction: {lasso_seen:.2f} → {'Pass' if lasso_seen >= 50 else 'Fail'}\")\n",
        "print(f\"Ridge Prediction: {ridge_seen:.2f} → {'Pass' if ridge_seen >= 50 else 'Fail'}\")\n",
        "print(f\"ElasticNet Prediction: {elastic_seen:.2f} → {'Pass' if elastic_seen >= 50 else 'Fail'}\")\n",
        "print(f\"Logistic Regression Prediction: {'Pass' if log_seen else 'Fail'}\")\n",
        "\n",
        "\n",
        "print(\"\\n--- Unseen Data Prediction ---\")\n",
        "print(\"Enter new student scores for the same 5 subjects, separated by commas (e.g. 60,70,65,55,80):\")\n",
        "new_input = list(map(float, input().split(',')))\n",
        "new_data = np.array(new_input).reshape(1, -1)\n",
        "\n",
        "lasso_new = lasso.predict(new_data)[0]\n",
        "ridge_new = ridge.predict(new_data)[0]\n",
        "elastic_new = elastic.predict(new_data)[0]\n",
        "log_new = logreg.predict(new_data)[0]\n",
        "\n",
        "print(f\"\\nLasso Prediction: {lasso_new:.2f} → {'Pass' if lasso_new >= 50 else 'Fail'}\")\n",
        "print(f\"Ridge Prediction: {ridge_new:.2f} → {'Pass' if ridge_new >= 50 else 'Fail'}\")\n",
        "print(f\"ElasticNet Prediction: {elastic_new:.2f} → {'Pass' if elastic_new >= 50 else 'Fail'}\")\n",
        "print(f\"Logistic Regression Prediction: {'Pass' if log_new else 'Fail'}\")\n"
      ]
    },
    {
      "cell_type": "code",
      "execution_count": null,
      "metadata": {
        "id": "N_Lr-P18i7Uk"
      },
      "outputs": [],
      "source": []
    },
    {
      "cell_type": "code",
      "execution_count": null,
      "metadata": {
        "id": "jly3HxBsi7Uk"
      },
      "outputs": [],
      "source": []
    },
    {
      "cell_type": "code",
      "execution_count": null,
      "metadata": {
        "id": "0zK39COji7Uk"
      },
      "outputs": [],
      "source": []
    }
  ],
  "metadata": {
    "colab": {
      "provenance": [],
      "include_colab_link": true
    },
    "kernelspec": {
      "display_name": "Python 3 (ipykernel)",
      "language": "python",
      "name": "python3"
    },
    "language_info": {
      "codemirror_mode": {
        "name": "ipython",
        "version": 3
      },
      "file_extension": ".py",
      "mimetype": "text/x-python",
      "name": "python",
      "nbconvert_exporter": "python",
      "pygments_lexer": "ipython3",
      "version": "3.12.7"
    }
  },
  "nbformat": 4,
  "nbformat_minor": 0
}