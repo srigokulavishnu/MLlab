# Sample input: 10 data points
x = [1, 2, 3, 4, 5, 6, 7, 8, 9, 10]
y = [2.3, 2.9, 3.8, 4.4, 5.1, 5.9, 6.8, 7.2, 8.0, 9.1]

# Step 1: Construct design matrix X and vector Y
X = []
Y = []
for i in range(len(x)):
    X.append([1, x[i]])  # Include 1 for intercept
    Y.append([y[i]])

# Step 2: Transpose function
def transpose(matrix):
    result = []
    for j in range(len(matrix[0])):
        row = []
        for i in range(len(matrix)):
            row.append(matrix[i][j])
        result.append(row)
    return result

# Step 3: Manual matrix multiplication
def multiply(a, b):
    result = []
    for i in range(len(a)):
        row = []
        for j in range(len(b[0])):
            val = 0
            for k in range(len(b)):
                val += a[i][k] * b[k][j]
            row.append(val)
        result.append(row)
    return result

# Step 4: Manual inverse for 2x2 matrix
def inverse_2x2(m):
    a, b = m[0]
    c, d = m[1]
    det = a * d - b * c
    if det == 0:
        raise ValueError("Matrix is singular.")
    inv_det = 1 / det
    return [
        [ d * inv_det, -b * inv_det],
        [-c * inv_det,  a * inv_det]
    ]

# Step 5: Apply normal equation β = (XᵀX)⁻¹ XᵀY
XT = transpose(X)
XT_X = multiply(XT, X)
XT_Y = multiply(XT, Y)
XT_X_inv = inverse_2x2(XT_X)
beta = multiply(XT_X_inv, XT_Y)

# Extract coefficients
intercept = beta[0][0]
slope = beta[1][0]

# Final Output
print(f"The regression equation is: y = {intercept:.4f} + {slope:.4f} * x")
