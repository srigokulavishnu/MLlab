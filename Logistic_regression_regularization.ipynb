{
  "nbformat": 4,
  "nbformat_minor": 0,
  "metadata": {
    "colab": {
      "provenance": [],
      "authorship_tag": "ABX9TyO2SASF25+e2mgFv++/hokD",
      "include_colab_link": true
    },
    "kernelspec": {
      "name": "python3",
      "display_name": "Python 3"
    },
    "language_info": {
      "name": "python"
    }
  },
  "cells": [
    {
      "cell_type": "markdown",
      "metadata": {
        "id": "view-in-github",
        "colab_type": "text"
      },
      "source": [
        "<a href=\"https://colab.research.google.com/github/srigokulavishnu/MLlab/blob/main/Logistic_regression_regularization.ipynb\" target=\"_parent\"><img src=\"https://colab.research.google.com/assets/colab-badge.svg\" alt=\"Open In Colab\"/></a>"
      ]
    },
    {
      "cell_type": "code",
      "execution_count": null,
      "metadata": {
        "id": "WYFn3JA74U63"
      },
      "outputs": [],
      "source": [
        "import numpy as np\n",
        "import pandas as pd\n",
        "from sklearn.linear_model import Lasso, Ridge, ElasticNet, LogisticRegression\n",
        "from sklearn.metrics import mean_squared_error, r2_score, accuracy_score\n",
        "\n",
        "# --- Load dataset from CSV ---\n",
        "df = pd.read_csv('student_data.csv')  # Replace with your actual CSV file name\n",
        "\n",
        "# --- Features and Target ---\n",
        "X = df.drop('FinalScore', axis=1)\n",
        "y = df['FinalScore']\n",
        "y_class = (y >= 50).astype(int)  # Create binary Pass/Fail column (1=Pass, 0=Fail)\n",
        "\n",
        "# --- Train regression models ---\n",
        "lasso = Lasso(alpha=0.1)\n",
        "ridge = Ridge(alpha=1.0)\n",
        "elastic = ElasticNet(alpha=0.1, l1_ratio=0.5)\n",
        "\n",
        "lasso.fit(X, y)\n",
        "ridge.fit(X, y)\n",
        "elastic.fit(X, y)\n",
        "\n",
        "# --- Predictions (regression) ---\n",
        "y_lasso_pred = lasso.predict(X)\n",
        "y_ridge_pred = ridge.predict(X)\n",
        "y_elastic_pred = elastic.predict(X)\n",
        "\n",
        "# --- Train logistic regression ---\n",
        "logreg = LogisticRegression()\n",
        "logreg.fit(X, y_class)\n",
        "y_log_pred = logreg.predict(X)\n",
        "\n",
        "# --- Evaluation functions ---\n",
        "def evaluate_regression(name, y_true, y_pred):\n",
        "    print(f\"\\n--- {name} Regression ---\")\n",
        "    print(\"R² Score:\", round(r2_score(y_true, y_pred), 3))\n",
        "    print(\"MSE:\", round(mean_squared_error(y_true, y_pred), 3))\n",
        "    print(\"Predicted Pass/Fail (Threshold=50):\", [\"Pass\" if p >= 50 else \"Fail\" for p in y_pred])\n",
        "\n",
        "def evaluate_logistic(name, y_true, y_pred):\n",
        "    print(f\"\\n--- {name} ---\")\n",
        "    print(\"Accuracy:\", round(accuracy_score(y_true, y_pred), 3))\n",
        "    print(\"Predicted Pass/Fail:\", [\"Pass\" if p == 1 else \"Fail\" for p in y_pred])\n",
        "\n",
        "# --- Evaluate all models ---\n",
        "evaluate_regression(\"Lasso\", y, y_lasso_pred)\n",
        "evaluate_regression(\"Ridge\", y, y_ridge_pred)\n",
        "evaluate_regression(\"ElasticNet\", y, y_elastic_pred)\n",
        "evaluate_logistic(\"Logistic Regression\", y_class, y_log_pred)\n",
        "\n",
        "# --- Predict for a new student ---\n",
        "print(\"\\n--- Predict Final Score for New Student ---\")\n",
        "# Replace with actual new student scores if needed\n",
        "new_student = np.array([[60, 70, 65, 55, 80]])  # Example scores\n",
        "\n",
        "lasso_score = lasso.predict(new_student)[0]\n",
        "ridge_score = ridge.predict(new_student)[0]\n",
        "elastic_score = elastic.predict(new_student)[0]\n",
        "log_class = logreg.predict(new_student)[0]\n",
        "\n",
        "print(f\"\\nLasso Predicted Score: {lasso_score:.2f} → {'Pass' if lasso_score >= 50 else 'Fail'}\")\n",
        "print(f\"Ridge Predicted Score: {ridge_score:.2f} → {'Pass' if ridge_score >= 50 else 'Fail'}\")\n",
        "print(f\"ElasticNet Predicted Score: {elastic_score:.2f} → {'Pass' if elastic_score >= 50 else 'Fail'}\")\n",
        "print(f\"Logistic Regression Predicted Class: {'Pass' if log_class == 1 else 'Fail'}\")\n"
      ]
    }
  ]
}