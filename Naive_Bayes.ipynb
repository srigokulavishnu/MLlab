{
  "cells": [
    {
      "cell_type": "markdown",
      "metadata": {
        "id": "view-in-github",
        "colab_type": "text"
      },
      "source": [
        "<a href=\"https://colab.research.google.com/github/srigokulavishnu/MLlab/blob/main/Naive_Bayes.ipynb\" target=\"_parent\"><img src=\"https://colab.research.google.com/assets/colab-badge.svg\" alt=\"Open In Colab\"/></a>"
      ]
    },
    {
      "cell_type": "code",
      "execution_count": 4,
      "id": "7fd330bf-fecc-4655-8d99-62ea9fb0dac6",
      "metadata": {
        "colab": {
          "base_uri": "https://localhost:8080/"
        },
        "id": "7fd330bf-fecc-4655-8d99-62ea9fb0dac6",
        "outputId": "5dd37995-5574-4c21-a877-71c57bfefe9e"
      },
      "outputs": [
        {
          "output_type": "stream",
          "name": "stdout",
          "text": [
            "Accuracy: 1.00\n",
            "\n",
            "Class 'setosa':\n",
            "  Precision: 1.00\n",
            "  Recall:    1.00\n",
            "  F1-score:  1.00\n",
            "\n",
            "Class 'versicolor':\n",
            "  Precision: 1.00\n",
            "  Recall:    1.00\n",
            "  F1-score:  1.00\n",
            "\n",
            "Class 'virginica':\n",
            "  Precision: 1.00\n",
            "  Recall:    1.00\n",
            "  F1-score:  1.00\n",
            "\n"
          ]
        }
      ],
      "source": [
        "from sklearn.datasets import load_iris\n",
        "from sklearn.model_selection import train_test_split\n",
        "from sklearn.naive_bayes import GaussianNB\n",
        "from sklearn.metrics import accuracy_score, precision_score, recall_score, f1_score, confusion_matrix\n",
        "import matplotlib.pyplot as plt\n",
        "import seaborn as sns\n",
        "\n",
        "# Load dataset\n",
        "iris = load_iris()\n",
        "X, y = iris.data, iris.target\n",
        "\n",
        "# Split data\n",
        "X_train, X_test, y_train, y_test = train_test_split(X, y, test_size=0.2, random_state=42)\n",
        "\n",
        "# Train model\n",
        "gnb = GaussianNB()\n",
        "gnb.fit(X_train, y_train)\n",
        "\n",
        "# Predict\n",
        "y_pred = gnb.predict(X_test)\n",
        "\n",
        "# Calculate metrics per class\n",
        "accuracy = accuracy_score(y_test, y_pred)\n",
        "precision = precision_score(y_test, y_pred, average=None)\n",
        "recall = recall_score(y_test, y_pred, average=None)\n",
        "f1 = f1_score(y_test, y_pred, average=None)\n",
        "\n",
        "print(f\"Accuracy: {accuracy:.2f}\\n\")\n",
        "\n",
        "# Print per class with class names\n",
        "for i, class_name in enumerate(iris.target_names):\n",
        "    print(f\"Class '{class_name}':\")\n",
        "    print(f\"  Precision: {precision[i]:.2f}\")\n",
        "    print(f\"  Recall:    {recall[i]:.2f}\")\n",
        "    print(f\"  F1-score:  {f1[i]:.2f}\")\n",
        "\n",
        "    print()\n",
        "\n",
        "\n",
        "\n",
        "\n"
      ]
    },
    {
      "cell_type": "code",
      "execution_count": null,
      "id": "a92c406a-6076-4e2a-b323-152569c2ab96",
      "metadata": {
        "id": "a92c406a-6076-4e2a-b323-152569c2ab96"
      },
      "outputs": [],
      "source": []
    }
  ],
  "metadata": {
    "kernelspec": {
      "display_name": "Python 3 (ipykernel)",
      "language": "python",
      "name": "python3"
    },
    "language_info": {
      "codemirror_mode": {
        "name": "ipython",
        "version": 3
      },
      "file_extension": ".py",
      "mimetype": "text/x-python",
      "name": "python",
      "nbconvert_exporter": "python",
      "pygments_lexer": "ipython3",
      "version": "3.12.7"
    },
    "colab": {
      "provenance": [],
      "include_colab_link": true
    }
  },
  "nbformat": 4,
  "nbformat_minor": 5
}