{
  "cells": [
    {
      "cell_type": "markdown",
      "metadata": {
        "id": "view-in-github",
        "colab_type": "text"
      },
      "source": [
        "<a href=\"https://colab.research.google.com/github/srigokulavishnu/MLlab/blob/main/Ex-4/id3.ipynb\" target=\"_parent\"><img src=\"https://colab.research.google.com/assets/colab-badge.svg\" alt=\"Open In Colab\"/></a>"
      ]
    },
    {
      "cell_type": "code",
      "execution_count": null,
      "id": "54735cf2",
      "metadata": {
        "id": "54735cf2",
        "outputId": "1d45dade-aab9-4c24-dc2a-3d5b6a2112cf"
      },
      "outputs": [
        {
          "name": "stdout",
          "output_type": "stream",
          "text": [
            "{'CGPA': {'<8': 'N',\n",
            "          '>=8': 'Y',\n",
            "          '>=9': {'Practical': {'AVG': 'N', 'G': 'Y', 'VG': 'Y'}}}}\n"
          ]
        },
        {
          "name": "stdin",
          "output_type": "stream",
          "text": [
            "\n",
            "Enter your CGPA:  7\n",
            "Are you interactive? (Yes/No):  yes\n",
            "Your practical knowledge? (VG/AVG/Good):  avg\n",
            "Your communication level? (G/M/P):  g\n"
          ]
        },
        {
          "name": "stdout",
          "output_type": "stream",
          "text": [
            "\n",
            "You will not get the job.\n"
          ]
        }
      ],
      "source": [
        "import pandas as pd\n",
        "import numpy as np\n",
        "import math\n",
        "import pprint\n",
        "\n",
        "df = pd.read_csv('job_data.csv')\n",
        "\n",
        "def discretize_cgpa(cgpa):\n",
        "    try:\n",
        "        cgpa = float(cgpa)\n",
        "    except (ValueError, TypeError):\n",
        "        return \"Unknown\"\n",
        "    if cgpa < 8:\n",
        "        return \"<8\"\n",
        "    elif cgpa >= 9:\n",
        "        return \">=9\"\n",
        "    else:\n",
        "        return \">=8\"\n",
        "\n",
        "\n",
        "def entropy(target_col):\n",
        "    elements, counts = np.unique(target_col, return_counts=True)\n",
        "    total = np.sum(counts)\n",
        "    ans = 0\n",
        "    for count in counts:\n",
        "        p_i = count / total\n",
        "        ans -= p_i * math.log2(p_i)\n",
        "    return ans\n",
        "\n",
        "def attribute_entropy(data, attribute, target):\n",
        "    values, counts = np.unique(data[attribute], return_counts=True)\n",
        "    total = np.sum(counts)\n",
        "    ans = 0\n",
        "    for i in range(len(values)):\n",
        "        subset = data[data[attribute] == values[i]]\n",
        "        subset_entropy = entropy(subset[target])\n",
        "        ans += (counts[i] / total) * subset_entropy\n",
        "    return ans\n",
        "\n",
        "def info_gain(data, attribute, target):\n",
        "    total_entropy = entropy(data[target])\n",
        "    attr_entropy = attribute_entropy(data, attribute, target)\n",
        "    return total_entropy - attr_entropy\n",
        "\n",
        "def id3(data, original_data, features, target, parent_class=None):\n",
        "    if len(np.unique(data[target])) <= 1:\n",
        "        return np.unique(data[target])[0]\n",
        "    elif len(data) == 0:\n",
        "        return np.unique(original_data[target])[\n",
        "            np.argmax(np.unique(original_data[target], return_counts=True)[1])\n",
        "        ]\n",
        "    elif len(features) == 0:\n",
        "        return parent_class\n",
        "    else:\n",
        "        parent_class = np.unique(data[target])[\n",
        "            np.argmax(np.unique(data[target], return_counts=True)[1])\n",
        "        ]\n",
        "        gains = [info_gain(data, feature, target) for feature in features]\n",
        "        best_feature_index = np.argmax(gains)\n",
        "        best_feature = features[best_feature_index]\n",
        "        tree = {best_feature: {}}\n",
        "        for value in np.unique(data[best_feature]):\n",
        "            sub_data = data[data[best_feature] == value]\n",
        "            sub_features = [f for f in features if f != best_feature]\n",
        "            subtree = id3(sub_data, original_data, sub_features, target, parent_class)\n",
        "            tree[best_feature][value] = subtree\n",
        "        return tree\n",
        "\n",
        "target_attribute = 'JobOffer'\n",
        "features = [col for col in df.columns if col != target_attribute]\n",
        "\n",
        "decision_tree = id3(df, df, features, target_attribute)\n",
        "pprint.pprint(decision_tree)\n",
        "\n",
        "def majority_class(data_subset):\n",
        "    return data_subset['JobOffer'].value_counts().idxmax()\n",
        "\n",
        "def predict(tree, sample):\n",
        "    if not isinstance(tree, dict):\n",
        "        return tree\n",
        "    attribute = next(iter(tree))\n",
        "    attribute_value = sample.get(attribute)\n",
        "    if attribute_value in tree[attribute]:\n",
        "        return predict(tree[attribute][attribute_value], sample)\n",
        "    else:\n",
        "        return majority_class(df)\n",
        "\n",
        "cgpa_input = float(input(\"\\nEnter your CGPA: \"))\n",
        "interactive_input = input(\"Are you interactive? (Yes/No): \").strip().title()\n",
        "practical_input = input(\"Your practical knowledge? (VG/AVG/Good): \").strip().upper()\n",
        "communication_input = input(\"Your communication level? (G/M/P): \").strip().upper()\n",
        "\n",
        "new_sample = {\n",
        "    \"CGPA\": discretize_cgpa(cgpa_input),\n",
        "    \"Interactive\": interactive_input,\n",
        "    \"Practical\": practical_input,\n",
        "    \"Communication\": communication_input\n",
        "}\n",
        "\n",
        "prediction = predict(decision_tree, new_sample)\n",
        "if prediction.strip().lower() in [\"yes\", \"y\"]:\n",
        "    print(\"\\nYou will get the job.\")\n",
        "else:\n",
        "    print(\"\\nYou will not get the job.\")\n"
      ]
    },
    {
      "cell_type": "code",
      "execution_count": null,
      "id": "335e761b-f603-45a2-bb40-da1418ffd07a",
      "metadata": {
        "id": "335e761b-f603-45a2-bb40-da1418ffd07a"
      },
      "outputs": [],
      "source": []
    }
  ],
  "metadata": {
    "kernelspec": {
      "display_name": "Python 3 (ipykernel)",
      "language": "python",
      "name": "python3"
    },
    "language_info": {
      "codemirror_mode": {
        "name": "ipython",
        "version": 3
      },
      "file_extension": ".py",
      "mimetype": "text/x-python",
      "name": "python",
      "nbconvert_exporter": "python",
      "pygments_lexer": "ipython3",
      "version": "3.12.7"
    },
    "colab": {
      "provenance": [],
      "include_colab_link": true
    }
  },
  "nbformat": 4,
  "nbformat_minor": 5
}