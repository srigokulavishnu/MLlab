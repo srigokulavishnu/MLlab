{
 "cells": [
  {
   "cell_type": "code",
   "execution_count": 4,
   "id": "99ebef75-3506-4704-abb4-7d332efefaa5",
   "metadata": {},
   "outputs": [
    {
     "name": "stdin",
     "output_type": "stream",
     "text": [
      "Enter no of data points:  5\n",
      "value 1 :  1\n",
      "value 2 :  3\n",
      "value 3 :  2\n",
      "value 4 :  5\n",
      "value 5 :  4\n"
     ]
    },
    {
     "name": "stdout",
     "output_type": "stream",
     "text": [
      "Mean : 3.0\n",
      "---statistical measures ---\n",
      "Mean : 3.0\n",
      "Median : 3.0\n",
      "Mode : [1.0, 2.0, 3.0, 4.0, 5.0]\n",
      "Range : 4.0\n",
      "Variance : 2.5\n",
      "Standard deviation : 1.5811388300841898\n",
      "Mean Absolute Deviation : 1.2\n",
      "Q1 : 1.5 , Q2 : 3.0 , Q3 : 4.5\n",
      "Skewness : 0.0\n",
      "Kurtosis : -1.912\n"
     ]
    },
    {
     "data": {
      "image/png": "[encoded data removed]",
      "text/plain": [
       "<Figure size 600x600 with 1 Axes>"
      ]
     },
     "metadata": {},
     "output_type": "display_data"
    }
   ],
   "source": [
    "import statistics\n",
    "import matplotlib.pyplot as plt\n",
    "import seaborn as sns\n",
    "n = int(input(\"Enter no of data points: \"))\n",
    "data = []\n",
    "for i in range(n):\n",
    "    data.append(float(input(f\"value {i+1} : \")))\n",
    "\n",
    "total = 0\n",
    "for val in data:\n",
    "    total += val\n",
    "mean = total / n\n",
    "print(f\"Mean : {mean}\")\n",
    "\n",
    "data.sort()\n",
    "\n",
    "if n % 2 == 0:\n",
    "    mid1 = data[n // 2 - 1]\n",
    "    mid2 = data[n // 2]\n",
    "    median = (mid1 + mid2) / 2\n",
    "else:\n",
    "    median = data[n // 2]\n",
    "\n",
    "freq = {}\n",
    "for val in data:\n",
    "    if val in freq:\n",
    "        freq[val] += 1\n",
    "    else:\n",
    "        freq[val] = 1\n",
    "\n",
    "max_freq = 0\n",
    "for val in freq:\n",
    "    if freq[val] > max_freq:    \n",
    "        max_freq = freq[val]\n",
    "\n",
    "modes = []\n",
    "for key in freq:\n",
    "    if freq[key] == max_freq:\n",
    "        modes.append(key)\n",
    "\n",
    "if len(modes) == 1:\n",
    "    mode = modes[0]\n",
    "else:\n",
    "    mode = modes\n",
    "\n",
    "range_val = data[-1] - data[0]\n",
    "\n",
    "sum_sq = 0\n",
    "for val in data:\n",
    "    sum_sq += (val - mean) ** 2\n",
    "variance = sum_sq / (n - 1)\n",
    "\n",
    "sd = variance ** 0.5\n",
    "\n",
    "sum_abs = 0\n",
    "for val in data:\n",
    "    sum_abs += abs(val - mean)\n",
    "mad = sum_abs / n\n",
    "\n",
    "cv = (sd / mean) * 100\n",
    "\n",
    "lower_half = data[:n // 2]\n",
    "upper_half = data[(n + 1) // 2:]    \n",
    "\n",
    "q1 = statistics.median(lower_half)\n",
    "q2 = median\n",
    "q3 = statistics.median(upper_half)\n",
    "\n",
    "skewness = 3 * (mean - median) / sd\n",
    "\n",
    "sum4 = 0                            \n",
    "for val in data:\n",
    "    sum4 += (val - mean) ** 4\n",
    "\n",
    "kurtosis = ((1 / n) * ((1 / sd) ** 4) * sum4) - 3\n",
    "\n",
    "print(\"---statistical measures ---\")\n",
    "print(f\"Mean : {mean}\")\n",
    "print(f\"Median : {median}\")\n",
    "print(f\"Mode : {mode}\")\n",
    "print(f\"Range : {range_val}\")\n",
    "print(f\"Variance : {variance}\")\n",
    "print(f\"Standard deviation : {sd}\")\n",
    "print(f\"Mean Absolute Deviation : {mad}\")\n",
    "print(f\"Q1 : {q1} , Q2 : {q2} , Q3 : {q3}\")\n",
    "print(f\"Skewness : {skewness}\")\n",
    "print(f\"Kurtosis : {kurtosis}\")\n",
    "\n",
    "\n",
    "plt.figure(figsize=(6, 6))\n",
    "sns.boxplot(y=data, color=\"skyblue\")  # Boxplot vertically\n",
    "\n",
    "plt.title(\"Boxplot of Weights\")\n",
    "plt.ylabel(\"Weight (kg)\")\n",
    "plt.show()"
   ]
  },
  {
   "cell_type": "code",
   "execution_count": null,
   "id": "ede8f722-75d6-4b23-94e9-767166a6c272",
   "metadata": {},
   "outputs": [],
   "source": []
  }
 ],
 "metadata": {
  "kernelspec": {
   "display_name": "Python 3 (ipykernel)",
   "language": "python",
   "name": "python3"
  },
  "language_info": {
   "codemirror_mode": {
    "name": "ipython",
    "version": 3
   },
   "file_extension": ".py",
   "mimetype": "text/x-python",
   "name": "python",
   "nbconvert_exporter": "python",
   "pygments_lexer": "ipython3",
   "version": "3.12.7"
  }
 },
 "nbformat": 4,
 "nbformat_minor": 5
}
